{
  "nbformat": 4,
  "nbformat_minor": 0,
  "metadata": {
    "colab": {
      "name": "Sentiment Analysis.ipynb",
      "provenance": [],
      "machine_shape": "hm"
    },
    "kernelspec": {
      "name": "python3",
      "display_name": "Python 3"
    },
    "accelerator": "GPU"
  },
  "cells": [
    {
      "cell_type": "markdown",
      "metadata": {
        "id": "U07DFhK4lV6z",
        "colab_type": "text"
      },
      "source": [
        "## Data Preparation"
      ]
    },
    {
      "cell_type": "code",
      "metadata": {
        "id": "RJhYf4vjlR_P",
        "colab_type": "code",
        "colab": {}
      },
      "source": [
        "import numpy as np\n",
        "import matplotlib.pyplot as plt\n",
        "from keras.datasets import imdb"
      ],
      "execution_count": 0,
      "outputs": []
    },
    {
      "cell_type": "code",
      "metadata": {
        "id": "VJpmcMrYWiNn",
        "colab_type": "code",
        "colab": {}
      },
      "source": [
        "(Xtrain,Ytrain),(Xtest,Ytest) = imdb.load_data(num_words=10000)"
      ],
      "execution_count": 0,
      "outputs": []
    },
    {
      "cell_type": "code",
      "metadata": {
        "id": "v4gNwOA8YB1V",
        "colab_type": "code",
        "colab": {
          "base_uri": "https://localhost:8080/",
          "height": 51
        },
        "outputId": "0db1ed6d-d06f-43b4-9ffc-689a18e2138c"
      },
      "source": [
        "print(Xtest.shape)\n",
        "print(Ytest.shape)"
      ],
      "execution_count": 109,
      "outputs": [
        {
          "output_type": "stream",
          "text": [
            "(25000,)\n",
            "(25000,)\n"
          ],
          "name": "stdout"
        }
      ]
    },
    {
      "cell_type": "code",
      "metadata": {
        "id": "XGS29WnvYFLo",
        "colab_type": "code",
        "colab": {
          "base_uri": "https://localhost:8080/",
          "height": 51
        },
        "outputId": "64de0822-b62e-4b58-8dad-ccdec5136f3c"
      },
      "source": [
        "print(Ytrain.shape)\n",
        "print(Ytest.shape)"
      ],
      "execution_count": 110,
      "outputs": [
        {
          "output_type": "stream",
          "text": [
            "(25000,)\n",
            "(25000,)\n"
          ],
          "name": "stdout"
        }
      ]
    },
    {
      "cell_type": "code",
      "metadata": {
        "id": "fBVvRTCYZskE",
        "colab_type": "code",
        "colab": {}
      },
      "source": [
        "mapping = imdb.get_word_index()"
      ],
      "execution_count": 0,
      "outputs": []
    },
    {
      "cell_type": "code",
      "metadata": {
        "id": "VlbORYGYZyQT",
        "colab_type": "code",
        "colab": {
          "base_uri": "https://localhost:8080/",
          "height": 34
        },
        "outputId": "bc296fbe-4d33-48f6-cbe7-6469ce85303f"
      },
      "source": [
        "print(len(mapping))"
      ],
      "execution_count": 112,
      "outputs": [
        {
          "output_type": "stream",
          "text": [
            "88584\n"
          ],
          "name": "stdout"
        }
      ]
    },
    {
      "cell_type": "code",
      "metadata": {
        "id": "pz7ntTI5Z0CD",
        "colab_type": "code",
        "colab": {}
      },
      "source": [
        "inverse_mapping = dict([(value,key) for key,value in mapping.items()])"
      ],
      "execution_count": 0,
      "outputs": []
    },
    {
      "cell_type": "code",
      "metadata": {
        "id": "CvWgIYdZa4FD",
        "colab_type": "code",
        "colab": {
          "base_uri": "https://localhost:8080/",
          "height": 34
        },
        "outputId": "7b5c5735-bbf1-4c64-dac3-6d7435715d53"
      },
      "source": [
        "print(len(inverse_mapping))"
      ],
      "execution_count": 114,
      "outputs": [
        {
          "output_type": "stream",
          "text": [
            "88584\n"
          ],
          "name": "stdout"
        }
      ]
    },
    {
      "cell_type": "code",
      "metadata": {
        "id": "NDWMuKs9bI5-",
        "colab_type": "code",
        "colab": {}
      },
      "source": [
        "test1 = \" \".join([inverse_mapping.get(ix) for ix in Xtrain[1]])        "
      ],
      "execution_count": 0,
      "outputs": []
    },
    {
      "cell_type": "code",
      "metadata": {
        "id": "wMncZU_kbgbs",
        "colab_type": "code",
        "colab": {
          "base_uri": "https://localhost:8080/",
          "height": 54
        },
        "outputId": "5ae39e4c-99ed-4237-ee0a-3e7fa5c7a9d8"
      },
      "source": [
        "print(test1)"
      ],
      "execution_count": 116,
      "outputs": [
        {
          "output_type": "stream",
          "text": [
            "the thought solid thought senator do making to is spot nomination assumed while he of jack in where picked as getting on was did hands fact characters to always life thrillers not as me can't in at are br of sure your way of little it strongly random to view of love it so principles of guy it used producer of where it of here icon film of outside to don't all unique some like of direction it if out her imagination below keep of queen he diverse to makes this stretch and of solid it thought begins br senator and budget worthwhile though ok and awaiting for ever better were and diverse for budget look kicked any to of making it out and follows for effects show to show cast this family us scenes more it severe making senator to and finds tv tend to of emerged these thing wants but and an beckinsale cult as it is video do you david see scenery it in few those are of ship for with of wild to one is very work dark they don't do dvd with those them\n"
          ],
          "name": "stdout"
        }
      ]
    },
    {
      "cell_type": "code",
      "metadata": {
        "id": "JVbR0eidbiAx",
        "colab_type": "code",
        "colab": {}
      },
      "source": [
        "def vectorise(corpus,dims=10000):\n",
        "\n",
        "  output = np.zeros((corpus.shape[0],dims))\n",
        "  for i,idx in enumerate(corpus):\n",
        "    output[i,idx] = 1\n",
        "\n",
        "  return output  "
      ],
      "execution_count": 0,
      "outputs": []
    },
    {
      "cell_type": "code",
      "metadata": {
        "id": "a0KnSx6PcJCd",
        "colab_type": "code",
        "colab": {}
      },
      "source": [
        "Xtrain = vectorise(Xtrain)"
      ],
      "execution_count": 0,
      "outputs": []
    },
    {
      "cell_type": "code",
      "metadata": {
        "id": "hIP1iEIacO4n",
        "colab_type": "code",
        "colab": {}
      },
      "source": [
        "Xtest = vectorise(Xtest)"
      ],
      "execution_count": 0,
      "outputs": []
    },
    {
      "cell_type": "code",
      "metadata": {
        "id": "HxyZ1-U6c9f9",
        "colab_type": "code",
        "colab": {
          "base_uri": "https://localhost:8080/",
          "height": 51
        },
        "outputId": "f9b3b371-be51-44a0-f629-a9a70632eb64"
      },
      "source": [
        "print(Xtrain.shape)\n",
        "print(Xtest.shape)"
      ],
      "execution_count": 120,
      "outputs": [
        {
          "output_type": "stream",
          "text": [
            "(25000, 10000)\n",
            "(25000, 10000)\n"
          ],
          "name": "stdout"
        }
      ]
    },
    {
      "cell_type": "code",
      "metadata": {
        "id": "O-RHZER-dOIc",
        "colab_type": "code",
        "colab": {
          "base_uri": "https://localhost:8080/",
          "height": 34
        },
        "outputId": "9b8b9573-c665-49c7-efac-e1f8d61949a6"
      },
      "source": [
        "print(Xtrain[0])"
      ],
      "execution_count": 121,
      "outputs": [
        {
          "output_type": "stream",
          "text": [
            "[0. 1. 1. ... 0. 0. 0.]\n"
          ],
          "name": "stdout"
        }
      ]
    },
    {
      "cell_type": "markdown",
      "metadata": {
        "id": "AiOsAgoUlknA",
        "colab_type": "text"
      },
      "source": [
        "## Model Architecture"
      ]
    },
    {
      "cell_type": "code",
      "metadata": {
        "id": "e-Sgdab8lpsw",
        "colab_type": "code",
        "colab": {}
      },
      "source": [
        "from tensorflow.keras.models import Sequential\n",
        "from tensorflow.keras.layers import Dense\n",
        "from tensorflow.keras.callbacks import ModelCheckpoint,EarlyStopping"
      ],
      "execution_count": 0,
      "outputs": []
    },
    {
      "cell_type": "code",
      "metadata": {
        "id": "sFEP1r5MlyoI",
        "colab_type": "code",
        "colab": {}
      },
      "source": [
        "model = Sequential()"
      ],
      "execution_count": 0,
      "outputs": []
    },
    {
      "cell_type": "code",
      "metadata": {
        "id": "IjWL62wMl2vN",
        "colab_type": "code",
        "colab": {}
      },
      "source": [
        "model.add(Dense(units=16,activation='relu',input_dim=10000))\n",
        "model.add(Dense(units=16,activation='relu'))\n",
        "model.add(Dense(units=1,activation='sigmoid'))"
      ],
      "execution_count": 0,
      "outputs": []
    },
    {
      "cell_type": "code",
      "metadata": {
        "id": "6HARzSMlmxfY",
        "colab_type": "code",
        "colab": {}
      },
      "source": [
        "model.compile(optimizer='adam',loss='binary_crossentropy',metrics=['accuracy'])"
      ],
      "execution_count": 0,
      "outputs": []
    },
    {
      "cell_type": "code",
      "metadata": {
        "id": "k5zHSdyDnbaP",
        "colab_type": "code",
        "colab": {
          "base_uri": "https://localhost:8080/",
          "height": 255
        },
        "outputId": "9444f869-d312-4826-864a-36edaec72ddb"
      },
      "source": [
        "model.summary()"
      ],
      "execution_count": 126,
      "outputs": [
        {
          "output_type": "stream",
          "text": [
            "Model: \"sequential_3\"\n",
            "_________________________________________________________________\n",
            "Layer (type)                 Output Shape              Param #   \n",
            "=================================================================\n",
            "dense_9 (Dense)              (None, 16)                160016    \n",
            "_________________________________________________________________\n",
            "dense_10 (Dense)             (None, 16)                272       \n",
            "_________________________________________________________________\n",
            "dense_11 (Dense)             (None, 1)                 17        \n",
            "=================================================================\n",
            "Total params: 160,305\n",
            "Trainable params: 160,305\n",
            "Non-trainable params: 0\n",
            "_________________________________________________________________\n"
          ],
          "name": "stdout"
        }
      ]
    },
    {
      "cell_type": "code",
      "metadata": {
        "id": "94-RP3jAndob",
        "colab_type": "code",
        "colab": {}
      },
      "source": [
        "xval = Xtrain[:5000]\n",
        "Xtrain_new = Xtrain[5000:]\n",
        "\n",
        "yval = Ytrain[:5000]\n",
        "Ytrain_new = Ytrain[5000:]"
      ],
      "execution_count": 0,
      "outputs": []
    },
    {
      "cell_type": "code",
      "metadata": {
        "id": "Nvlb4VfOA6UO",
        "colab_type": "code",
        "colab": {}
      },
      "source": [
        "modelCheckPoint = ModelCheckpoint(filepath='./model.h5',monitor='val_accuracy',verbose=1,save_best_only=True)\n",
        "earlyStopping = EarlyStopping(monitor='val_accuracy',min_delta=0.005,patience=10,verbose=1,restore_best_weights=True)\n",
        "myCallBacks = [modelCheckPoint,earlyStopping]"
      ],
      "execution_count": 0,
      "outputs": []
    },
    {
      "cell_type": "code",
      "metadata": {
        "id": "YHbdWGwnr24N",
        "colab_type": "code",
        "colab": {
          "base_uri": "https://localhost:8080/",
          "height": 867
        },
        "outputId": "897b2698-1f1b-4062-af75-62491e2bda94"
      },
      "source": [
        "hist = model.fit(Xtrain_new,Ytrain_new,batch_size=512,epochs=20,validation_data=(xval,yval),callbacks=myCallBacks)"
      ],
      "execution_count": 129,
      "outputs": [
        {
          "output_type": "stream",
          "text": [
            "Epoch 1/20\n",
            "38/40 [===========================>..] - ETA: 0s - loss: 0.5564 - accuracy: 0.7551\n",
            "Epoch 00001: val_accuracy improved from -inf to 0.85620, saving model to ./model.h5\n",
            "40/40 [==============================] - 1s 18ms/step - loss: 0.5491 - accuracy: 0.7576 - val_loss: 0.4010 - val_accuracy: 0.8562\n",
            "Epoch 2/20\n",
            "37/40 [==========================>...] - ETA: 0s - loss: 0.3019 - accuracy: 0.9024\n",
            "Epoch 00002: val_accuracy improved from 0.85620 to 0.89240, saving model to ./model.h5\n",
            "40/40 [==============================] - 1s 14ms/step - loss: 0.3015 - accuracy: 0.9022 - val_loss: 0.2903 - val_accuracy: 0.8924\n",
            "Epoch 3/20\n",
            "37/40 [==========================>...] - ETA: 0s - loss: 0.2054 - accuracy: 0.9329\n",
            "Epoch 00003: val_accuracy did not improve from 0.89240\n",
            "40/40 [==============================] - 1s 13ms/step - loss: 0.2077 - accuracy: 0.9323 - val_loss: 0.2768 - val_accuracy: 0.8910\n",
            "Epoch 4/20\n",
            "37/40 [==========================>...] - ETA: 0s - loss: 0.1608 - accuracy: 0.9462\n",
            "Epoch 00004: val_accuracy did not improve from 0.89240\n",
            "40/40 [==============================] - 1s 14ms/step - loss: 0.1626 - accuracy: 0.9465 - val_loss: 0.2812 - val_accuracy: 0.8912\n",
            "Epoch 5/20\n",
            "37/40 [==========================>...] - ETA: 0s - loss: 0.1312 - accuracy: 0.9583\n",
            "Epoch 00005: val_accuracy did not improve from 0.89240\n",
            "40/40 [==============================] - 1s 13ms/step - loss: 0.1337 - accuracy: 0.9579 - val_loss: 0.2961 - val_accuracy: 0.8870\n",
            "Epoch 6/20\n",
            "36/40 [==========================>...] - ETA: 0s - loss: 0.1066 - accuracy: 0.9685\n",
            "Epoch 00006: val_accuracy did not improve from 0.89240\n",
            "40/40 [==============================] - 1s 14ms/step - loss: 0.1058 - accuracy: 0.9683 - val_loss: 0.3155 - val_accuracy: 0.8844\n",
            "Epoch 7/20\n",
            "37/40 [==========================>...] - ETA: 0s - loss: 0.0842 - accuracy: 0.9772\n",
            "Epoch 00007: val_accuracy did not improve from 0.89240\n",
            "40/40 [==============================] - 1s 13ms/step - loss: 0.0846 - accuracy: 0.9769 - val_loss: 0.3458 - val_accuracy: 0.8802\n",
            "Epoch 8/20\n",
            "37/40 [==========================>...] - ETA: 0s - loss: 0.0648 - accuracy: 0.9854\n",
            "Epoch 00008: val_accuracy did not improve from 0.89240\n",
            "40/40 [==============================] - 1s 13ms/step - loss: 0.0687 - accuracy: 0.9847 - val_loss: 0.3681 - val_accuracy: 0.8808\n",
            "Epoch 9/20\n",
            "37/40 [==========================>...] - ETA: 0s - loss: 0.0501 - accuracy: 0.9907\n",
            "Epoch 00009: val_accuracy did not improve from 0.89240\n",
            "40/40 [==============================] - 1s 13ms/step - loss: 0.0492 - accuracy: 0.9907 - val_loss: 0.3972 - val_accuracy: 0.8782\n",
            "Epoch 10/20\n",
            "37/40 [==========================>...] - ETA: 0s - loss: 0.0380 - accuracy: 0.9945\n",
            "Epoch 00010: val_accuracy did not improve from 0.89240\n",
            "40/40 [==============================] - 1s 13ms/step - loss: 0.0379 - accuracy: 0.9942 - val_loss: 0.4311 - val_accuracy: 0.8750\n",
            "Epoch 11/20\n",
            "38/40 [===========================>..] - ETA: 0s - loss: 0.0291 - accuracy: 0.9964\n",
            "Epoch 00011: val_accuracy did not improve from 0.89240\n",
            "40/40 [==============================] - 1s 13ms/step - loss: 0.0293 - accuracy: 0.9963 - val_loss: 0.4623 - val_accuracy: 0.8728\n",
            "Epoch 12/20\n",
            "38/40 [===========================>..] - ETA: 0s - loss: 0.0227 - accuracy: 0.9977\n",
            "Epoch 00012: val_accuracy did not improve from 0.89240\n",
            "Restoring model weights from the end of the best epoch.\n",
            "40/40 [==============================] - 1s 13ms/step - loss: 0.0228 - accuracy: 0.9977 - val_loss: 0.5002 - val_accuracy: 0.8734\n",
            "Epoch 00012: early stopping\n"
          ],
          "name": "stdout"
        }
      ]
    },
    {
      "cell_type": "code",
      "metadata": {
        "id": "6gK0Ao6qs6tC",
        "colab_type": "code",
        "colab": {}
      },
      "source": [
        "histt = hist.history"
      ],
      "execution_count": 0,
      "outputs": []
    },
    {
      "cell_type": "code",
      "metadata": {
        "id": "3Y-6ZV2ry-DS",
        "colab_type": "code",
        "colab": {
          "base_uri": "https://localhost:8080/",
          "height": 295
        },
        "outputId": "6333c396-a6fe-405c-f89c-97d73d50051e"
      },
      "source": [
        "plt.style.use('dark_background')\n",
        "plt.plot(histt['loss'],label='training loss')\n",
        "plt.plot(histt['val_loss'],label='validation loss')\n",
        "plt.xlabel('epoch')\n",
        "plt.ylabel('loss')\n",
        "plt.title('loss')\n",
        "plt.legend()\n",
        "plt.show()"
      ],
      "execution_count": 131,
      "outputs": [
        {
          "output_type": "display_data",
          "data": {
            "image/png": "[encoded data removed]",
            "text/plain": [
              "<Figure size 432x288 with 1 Axes>"
            ]
          },
          "metadata": {
            "tags": []
          }
        }
      ]
    },
    {
      "cell_type": "code",
      "metadata": {
        "id": "1YDm2iW4zQvX",
        "colab_type": "code",
        "colab": {
          "base_uri": "https://localhost:8080/",
          "height": 295
        },
        "outputId": "aaf81cc1-f327-4180-fbd7-a1784abf562c"
      },
      "source": [
        "plt.style.use('dark_background')\n",
        "plt.plot(histt['accuracy'],label='training accuracy')\n",
        "plt.plot(histt['val_accuracy'],label='validation accuracy')\n",
        "plt.xlabel('epoch')\n",
        "plt.ylabel('accuracy')\n",
        "plt.title('accuracy')\n",
        "plt.legend()\n",
        "plt.show()"
      ],
      "execution_count": 132,
      "outputs": [
        {
          "output_type": "display_data",
          "data": {
            "image/png": "[encoded data removed]",
            "text/plain": [
              "<Figure size 432x288 with 1 Axes>"
            ]
          },
          "metadata": {
            "tags": []
          }
        }
      ]
    },
    {
      "cell_type": "code",
      "metadata": {
        "id": "LnMTvbeW0NSa",
        "colab_type": "code",
        "colab": {
          "base_uri": "https://localhost:8080/",
          "height": 51
        },
        "outputId": "c993b742-7e9a-4c01-c1a5-27ba1b08528b"
      },
      "source": [
        "model.evaluate(Xtrain_new,Ytrain_new)"
      ],
      "execution_count": 135,
      "outputs": [
        {
          "output_type": "stream",
          "text": [
            "625/625 [==============================] - 2s 2ms/step - loss: 0.2199 - accuracy: 0.9317\n"
          ],
          "name": "stdout"
        },
        {
          "output_type": "execute_result",
          "data": {
            "text/plain": [
              "[0.2199215292930603, 0.9317499995231628]"
            ]
          },
          "metadata": {
            "tags": []
          },
          "execution_count": 135
        }
      ]
    },
    {
      "cell_type": "code",
      "metadata": {
        "id": "wRzT-zLhDbrE",
        "colab_type": "code",
        "colab": {
          "base_uri": "https://localhost:8080/",
          "height": 51
        },
        "outputId": "cbf64734-d821-42f1-9b27-6562dbef5569"
      },
      "source": [
        "model.evaluate(xval,yval)"
      ],
      "execution_count": 136,
      "outputs": [
        {
          "output_type": "stream",
          "text": [
            "157/157 [==============================] - 0s 3ms/step - loss: 0.2895 - accuracy: 0.8924\n"
          ],
          "name": "stdout"
        },
        {
          "output_type": "execute_result",
          "data": {
            "text/plain": [
              "[0.28953781723976135, 0.8924000263214111]"
            ]
          },
          "metadata": {
            "tags": []
          },
          "execution_count": 136
        }
      ]
    },
    {
      "cell_type": "code",
      "metadata": {
        "id": "8s7FAeceEsrJ",
        "colab_type": "code",
        "colab": {
          "base_uri": "https://localhost:8080/",
          "height": 51
        },
        "outputId": "f5c71842-248b-4a48-8e3f-8a13f2f9a203"
      },
      "source": [
        "model.evaluate(Xtest,Ytest)"
      ],
      "execution_count": 137,
      "outputs": [
        {
          "output_type": "stream",
          "text": [
            "782/782 [==============================] - 2s 3ms/step - loss: 0.3008 - accuracy: 0.8840\n"
          ],
          "name": "stdout"
        },
        {
          "output_type": "execute_result",
          "data": {
            "text/plain": [
              "[0.3007938265800476, 0.8840399980545044]"
            ]
          },
          "metadata": {
            "tags": []
          },
          "execution_count": 137
        }
      ]
    },
    {
      "cell_type": "code",
      "metadata": {
        "id": "NGatCOkqEyoC",
        "colab_type": "code",
        "colab": {}
      },
      "source": [
        ""
      ],
      "execution_count": 0,
      "outputs": []
    }
  ]
}